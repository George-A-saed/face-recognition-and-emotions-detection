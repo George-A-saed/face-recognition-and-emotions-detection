{
 "cells": [
  {
   "cell_type": "code",
   "execution_count": 25,
   "id": "9fa6c14c-62ff-474e-a964-63672bc66c22",
   "metadata": {},
   "outputs": [],
   "source": [
    "#Made by Maher Gomaa and George A.saed#\n",
    "#modules\n",
    "from PIL import Image, ImageDraw, ImageOps\n",
    "import tkinter as tk\n",
    "import numpy as np\n",
    "import matplotlib.pyplot as plt\n",
    "from tensorflow.keras.models import Sequential\n",
    "from tensorflow.keras.layers import Flatten, Dense\n",
    "import tensorflow as tf\n",
    "from tensorflow.keras import layers, models\n",
    "import cv2\n",
    "from sklearn.model_selection import train_test_split\n",
    "import pandas as pd\n",
    "from tensorflow.keras import layers, models\n",
    "import keras"
   ]
  },
  {
   "cell_type": "code",
   "execution_count": 27,
   "id": "176a1046-7441-419d-bc6b-1be2d621a6d5",
   "metadata": {},
   "outputs": [
    {
     "name": "stdout",
     "output_type": "stream",
     "text": [
      "   emotion                                             pixels     Usage\n",
      "0        0  70 80 82 72 58 58 60 63 54 58 60 48 89 115 121...  Training\n",
      "1        0  151 150 147 155 148 133 111 140 170 174 182 15...  Training\n",
      "2        2  231 212 156 164 174 138 161 173 182 200 106 38...  Training\n",
      "3        4  24 32 36 30 32 23 19 20 30 41 21 22 32 34 21 1...  Training\n",
      "4        6  4 0 0 0 0 0 0 0 0 0 0 0 3 15 23 28 48 50 58 84...  Training\n"
     ]
    }
   ],
   "source": [
    "# Load the FER2013 dataset\n",
    "csv_path = 'D:/Programing/fer/fer2013/fer2013.csv'\n",
    "data = pd.read_csv(csv_path)\n",
    "\n",
    "# Display the first few rows of the dataset\n",
    "print(data.head())"
   ]
  },
  {
   "cell_type": "code",
   "execution_count": 29,
   "id": "f7eead86-4646-4579-996b-e606bc167998",
   "metadata": {},
   "outputs": [
    {
     "name": "stdout",
     "output_type": "stream",
     "text": [
      "Training set size: 28709 images\n",
      "Test set size: 7178 images\n"
     ]
    }
   ],
   "source": [
    "\n",
    "from sklearn.model_selection import train_test_split\n",
    "\n",
    "# Convert pixels into a numpy array\n",
    "def preprocess_pixels(pixels):\n",
    "    pixels = np.array(pixels.split(), dtype='float32')  # Convert pixel string to array\n",
    "    pixels = pixels.reshape(48, 48)  # Reshape to 48x48 image\n",
    "    return pixels\n",
    "\n",
    "# Apply the preprocessing to the 'pixels' column\n",
    "data['pixels'] = data['pixels'].apply(preprocess_pixels)\n",
    "\n",
    "# Convert the data to numpy arrays\n",
    "X = np.stack(data['pixels'].values)\n",
    "y = data['emotion'].values\n",
    "\n",
    "# Normalize pixel values (0-1 range)\n",
    "X = X / 255.0\n",
    "\n",
    "# Reshape X to add channel dimension (for CNN input)\n",
    "X = X.reshape(-1, 48, 48, 1)\n",
    "\n",
    "# Split the data into training and test sets\n",
    "X_train, X_test, y_train, y_test = train_test_split(X, y, test_size=0.2, random_state=42)\n",
    "\n",
    "print(f\"Training set size: {X_train.shape[0]} images\")\n",
    "print(f\"Test set size: {X_test.shape[0]} images\")"
   ]
  },
  {
   "cell_type": "code",
   "execution_count": 61,
   "id": "ac754c36-19a2-4385-9f6e-87b957946042",
   "metadata": {},
   "outputs": [
    {
     "name": "stderr",
     "output_type": "stream",
     "text": [
      "D:\\Programing\\3esamanaconda\\Lib\\site-packages\\keras\\src\\layers\\convolutional\\base_conv.py:107: UserWarning: Do not pass an `input_shape`/`input_dim` argument to a layer. When using Sequential models, prefer using an `Input(shape)` object as the first layer in the model instead.\n",
      "  super().__init__(activity_regularizer=activity_regularizer, **kwargs)\n"
     ]
    }
   ],
   "source": [
    "# Build the CNN model\n",
    "model = models.Sequential([\n",
    "    layers.Conv2D(32, (3, 3), activation='relu', input_shape=(48, 48, 1)),\n",
    "    layers.MaxPooling2D((2, 2)),\n",
    "    layers.Conv2D(64, (3, 3), activation='relu'),\n",
    "    layers.MaxPooling2D((2, 2)),\n",
    "    layers.Conv2D(128, (3, 3), activation='relu'),\n",
    "    layers.MaxPooling2D((2, 2)),\n",
    "    layers.Flatten(),\n",
    "    layers.Dense(128, activation='relu'),\n",
    "    layers.Dropout(0.5),\n",
    "    layers.Dense(7, activation='softmax')  # 7 classes for 7 emotions\n",
    "])\n",
    "\n",
    "\n",
    "# Compile the model\n",
    "model.compile(optimizer='adam', \n",
    "              loss='sparse_categorical_crossentropy',\n",
    "              metrics=['accuracy'])"
   ]
  },
  {
   "cell_type": "code",
   "execution_count": 115,
   "id": "8c749937-9611-4b8a-975f-6a4667ba525c",
   "metadata": {},
   "outputs": [
    {
     "name": "stdout",
     "output_type": "stream",
     "text": [
      "Epoch 1/20\n",
      "\u001b[1m57/57\u001b[0m \u001b[32m━━━━━━━━━━━━━━━━━━━━\u001b[0m\u001b[37m\u001b[0m \u001b[1m13s\u001b[0m 225ms/step - accuracy: 0.8166 - loss: 0.4406 - val_accuracy: 0.5514 - val_loss: 3.0763\n",
      "Epoch 2/20\n",
      "\u001b[1m57/57\u001b[0m \u001b[32m━━━━━━━━━━━━━━━━━━━━\u001b[0m\u001b[37m\u001b[0m \u001b[1m13s\u001b[0m 223ms/step - accuracy: 0.8274 - loss: 0.4152 - val_accuracy: 0.5574 - val_loss: 3.0291\n",
      "Epoch 3/20\n",
      "\u001b[1m57/57\u001b[0m \u001b[32m━━━━━━━━━━━━━━━━━━━━\u001b[0m\u001b[37m\u001b[0m \u001b[1m20s\u001b[0m 221ms/step - accuracy: 0.8298 - loss: 0.4048 - val_accuracy: 0.5566 - val_loss: 3.1990\n",
      "Epoch 4/20\n",
      "\u001b[1m57/57\u001b[0m \u001b[32m━━━━━━━━━━━━━━━━━━━━\u001b[0m\u001b[37m\u001b[0m \u001b[1m13s\u001b[0m 221ms/step - accuracy: 0.8332 - loss: 0.3860 - val_accuracy: 0.5573 - val_loss: 3.2148\n",
      "Epoch 5/20\n",
      "\u001b[1m57/57\u001b[0m \u001b[32m━━━━━━━━━━━━━━━━━━━━\u001b[0m\u001b[37m\u001b[0m \u001b[1m13s\u001b[0m 220ms/step - accuracy: 0.8414 - loss: 0.3767 - val_accuracy: 0.5587 - val_loss: 3.1918\n",
      "Epoch 6/20\n",
      "\u001b[1m57/57\u001b[0m \u001b[32m━━━━━━━━━━━━━━━━━━━━\u001b[0m\u001b[37m\u001b[0m \u001b[1m13s\u001b[0m 228ms/step - accuracy: 0.8424 - loss: 0.3684 - val_accuracy: 0.5554 - val_loss: 3.2786\n",
      "Epoch 7/20\n",
      "\u001b[1m57/57\u001b[0m \u001b[32m━━━━━━━━━━━━━━━━━━━━\u001b[0m\u001b[37m\u001b[0m \u001b[1m12s\u001b[0m 216ms/step - accuracy: 0.8461 - loss: 0.3563 - val_accuracy: 0.5582 - val_loss: 3.3189\n",
      "Epoch 8/20\n",
      "\u001b[1m57/57\u001b[0m \u001b[32m━━━━━━━━━━━━━━━━━━━━\u001b[0m\u001b[37m\u001b[0m \u001b[1m13s\u001b[0m 223ms/step - accuracy: 0.8463 - loss: 0.3598 - val_accuracy: 0.5609 - val_loss: 3.3935\n",
      "Epoch 9/20\n",
      "\u001b[1m57/57\u001b[0m \u001b[32m━━━━━━━━━━━━━━━━━━━━\u001b[0m\u001b[37m\u001b[0m \u001b[1m13s\u001b[0m 233ms/step - accuracy: 0.8484 - loss: 0.3565 - val_accuracy: 0.5584 - val_loss: 3.3814\n",
      "Epoch 10/20\n",
      "\u001b[1m57/57\u001b[0m \u001b[32m━━━━━━━━━━━━━━━━━━━━\u001b[0m\u001b[37m\u001b[0m \u001b[1m15s\u001b[0m 271ms/step - accuracy: 0.8495 - loss: 0.3449 - val_accuracy: 0.5570 - val_loss: 3.3711\n",
      "Epoch 11/20\n",
      "\u001b[1m57/57\u001b[0m \u001b[32m━━━━━━━━━━━━━━━━━━━━\u001b[0m\u001b[37m\u001b[0m \u001b[1m14s\u001b[0m 241ms/step - accuracy: 0.8477 - loss: 0.3520 - val_accuracy: 0.5568 - val_loss: 3.4664\n",
      "Epoch 12/20\n",
      "\u001b[1m57/57\u001b[0m \u001b[32m━━━━━━━━━━━━━━━━━━━━\u001b[0m\u001b[37m\u001b[0m \u001b[1m13s\u001b[0m 231ms/step - accuracy: 0.8488 - loss: 0.3493 - val_accuracy: 0.5556 - val_loss: 3.4147\n",
      "Epoch 13/20\n",
      "\u001b[1m57/57\u001b[0m \u001b[32m━━━━━━━━━━━━━━━━━━━━\u001b[0m\u001b[37m\u001b[0m \u001b[1m14s\u001b[0m 240ms/step - accuracy: 0.8481 - loss: 0.3455 - val_accuracy: 0.5515 - val_loss: 3.4125\n",
      "Epoch 14/20\n",
      "\u001b[1m57/57\u001b[0m \u001b[32m━━━━━━━━━━━━━━━━━━━━\u001b[0m\u001b[37m\u001b[0m \u001b[1m14s\u001b[0m 239ms/step - accuracy: 0.8542 - loss: 0.3402 - val_accuracy: 0.5542 - val_loss: 3.4112\n",
      "Epoch 15/20\n",
      "\u001b[1m57/57\u001b[0m \u001b[32m━━━━━━━━━━━━━━━━━━━━\u001b[0m\u001b[37m\u001b[0m \u001b[1m14s\u001b[0m 253ms/step - accuracy: 0.8509 - loss: 0.3459 - val_accuracy: 0.5556 - val_loss: 3.4184\n",
      "Epoch 16/20\n",
      "\u001b[1m57/57\u001b[0m \u001b[32m━━━━━━━━━━━━━━━━━━━━\u001b[0m\u001b[37m\u001b[0m \u001b[1m14s\u001b[0m 247ms/step - accuracy: 0.8556 - loss: 0.3319 - val_accuracy: 0.5542 - val_loss: 3.4633\n",
      "Epoch 17/20\n",
      "\u001b[1m57/57\u001b[0m \u001b[32m━━━━━━━━━━━━━━━━━━━━\u001b[0m\u001b[37m\u001b[0m \u001b[1m21s\u001b[0m 256ms/step - accuracy: 0.8576 - loss: 0.3322 - val_accuracy: 0.5541 - val_loss: 3.4825\n",
      "Epoch 18/20\n",
      "\u001b[1m57/57\u001b[0m \u001b[32m━━━━━━━━━━━━━━━━━━━━\u001b[0m\u001b[37m\u001b[0m \u001b[1m14s\u001b[0m 245ms/step - accuracy: 0.8560 - loss: 0.3337 - val_accuracy: 0.5534 - val_loss: 3.4651\n",
      "Epoch 19/20\n",
      "\u001b[1m57/57\u001b[0m \u001b[32m━━━━━━━━━━━━━━━━━━━━\u001b[0m\u001b[37m\u001b[0m \u001b[1m15s\u001b[0m 257ms/step - accuracy: 0.8563 - loss: 0.3357 - val_accuracy: 0.5556 - val_loss: 3.4389\n",
      "Epoch 20/20\n",
      "\u001b[1m57/57\u001b[0m \u001b[32m━━━━━━━━━━━━━━━━━━━━\u001b[0m\u001b[37m\u001b[0m \u001b[1m14s\u001b[0m 249ms/step - accuracy: 0.8559 - loss: 0.3267 - val_accuracy: 0.5552 - val_loss: 3.5749\n"
     ]
    }
   ],
   "source": [
    "# Train the model\n",
    "history = model.fit(X_train, y_train, epochs=20, shuffle = False,batch_size = 512,\n",
    "                    validation_data=(X_test, y_test))\n",
    "\n"
   ]
  },
  {
   "cell_type": "code",
   "execution_count": 117,
   "id": "2e5d21c0-d85c-4192-acb2-0de1865ef06d",
   "metadata": {},
   "outputs": [],
   "source": [
    "##saving the model \n",
    "model.save('fer_testma8559.keras')"
   ]
  },
  {
   "cell_type": "code",
   "execution_count": 119,
   "id": "0f4f7183-9e0e-4f93-8dca-d476f310db8f",
   "metadata": {},
   "outputs": [],
   "source": [
    "# Load the pre-trained model\n",
    "model = tf.keras.models.load_model('fer_testma8559.keras')"
   ]
  },
  {
   "cell_type": "code",
   "execution_count": 121,
   "id": "f1285e04-cf2d-4868-b181-da57942ec0e9",
   "metadata": {},
   "outputs": [],
   "source": [
    "# Load the Haar Cascade face detector from OpenCV\n",
    "face_cascade = cv2.CascadeClassifier(cv2.data.haarcascades + 'haarcascade_frontalface_default.xml')\n",
    "\n",
    "# Define emotion labels\n",
    "emotion_labels = ['Angry', 'Disgust', 'Fear', 'Happy', 'Neutral' ,'Sad', 'Surprise' ]"
   ]
  },
  {
   "cell_type": "code",
   "execution_count": 123,
   "id": "7b43f643-bdb1-4c10-ac23-c660d1b99d8d",
   "metadata": {},
   "outputs": [],
   "source": [
    "# Function to preprocess face for model input\n",
    "def preprocess_face(face):\n",
    "    face = cv2.cvtColor(face, cv2.COLOR_BGR2GRAY)  # Convert to grayscale\n",
    "    face = cv2.resize(face, (48, 48))  # Resize to 48x48\n",
    "    face = face / 255.0  # Normalize\n",
    "    face = np.reshape(face, (1, 48, 48, 1))  # Reshape to match model input\n",
    "    return face"
   ]
  },
  {
   "cell_type": "code",
   "execution_count": 21,
   "id": "bdaf6016-6096-4a49-b179-a802142a18a4",
   "metadata": {},
   "outputs": [
    {
     "ename": "error",
     "evalue": "OpenCV(4.11.0) D:\\a\\opencv-python\\opencv-python\\opencv\\modules\\imgproc\\src\\color.cpp:199: error: (-215:Assertion failed) !_src.empty() in function 'cv::cvtColor'\n",
     "output_type": "error",
     "traceback": [
      "\u001b[1;31m---------------------------------------------------------------------------\u001b[0m",
      "\u001b[1;31merror\u001b[0m                                     Traceback (most recent call last)",
      "Cell \u001b[1;32mIn[21], line 9\u001b[0m\n\u001b[0;32m      6\u001b[0m ret, frame \u001b[38;5;241m=\u001b[39m cap\u001b[38;5;241m.\u001b[39mread()\n\u001b[0;32m      8\u001b[0m \u001b[38;5;66;03m# Convert frame to grayscale\u001b[39;00m\n\u001b[1;32m----> 9\u001b[0m gray \u001b[38;5;241m=\u001b[39m cv2\u001b[38;5;241m.\u001b[39mcvtColor(frame, cv2\u001b[38;5;241m.\u001b[39mCOLOR_BGR2GRAY)\n\u001b[0;32m     11\u001b[0m \u001b[38;5;66;03m# Detect faces in the frame\u001b[39;00m\n\u001b[0;32m     12\u001b[0m faces \u001b[38;5;241m=\u001b[39m face_cascade\u001b[38;5;241m.\u001b[39mdetectMultiScale(gray, scaleFactor\u001b[38;5;241m=\u001b[39m\u001b[38;5;241m1.1\u001b[39m, minNeighbors\u001b[38;5;241m=\u001b[39m\u001b[38;5;241m5\u001b[39m)\n",
      "\u001b[1;31merror\u001b[0m: OpenCV(4.11.0) D:\\a\\opencv-python\\opencv-python\\opencv\\modules\\imgproc\\src\\color.cpp:199: error: (-215:Assertion failed) !_src.empty() in function 'cv::cvtColor'\n"
     ]
    }
   ],
   "source": [
    "# Start webcam feed\n",
    "cap = cv2.VideoCapture(0)\n",
    "\n",
    "while True:\n",
    "    # Capture frame-by-frame\n",
    "    ret, frame = cap.read()\n",
    "\n",
    "    # Convert frame to grayscale\n",
    "    gray = cv2.cvtColor(frame, cv2.COLOR_BGR2GRAY)\n",
    "\n",
    "    # Detect faces in the frame\n",
    "    faces = face_cascade.detectMultiScale(gray, scaleFactor=1.1, minNeighbors=5)\n",
    "\n",
    "    # Loop through detected faces\n",
    "    for (x, y, w, h) in faces:\n",
    "        # Extract the face from the frame\n",
    "        face = frame[y:y+h, x:x+w]\n",
    "\n",
    "        # Preprocess the face for emotion prediction\n",
    "        processed_face = preprocess_face(face)\n",
    "\n",
    "        # Predict emotion\n",
    "        emotion_prediction = model.predict(processed_face)\n",
    "        emotion_label = emotion_labels[np.argmax(emotion_prediction)]\n",
    "\n",
    "        # Draw rectangle around face\n",
    "        cv2.rectangle(frame, (x, y), (x+w, y+h), (255, 0, 0), 2)\n",
    "\n",
    "        # Put emotion label on the frame\n",
    "        cv2.putText(frame, emotion_label, (x, y-10), cv2.FONT_HERSHEY_SIMPLEX, 0.9, (255, 0, 0), 2)\n",
    "\n",
    "    # Display the frame with the detected face and emotion\n",
    "    cv2.imshow('Real-time Emotion Recognition', frame)\n",
    "\n",
    "    # Break the loop when 'q' is pressed\n",
    "    if cv2.waitKey(1) & 0xFF == ord('q'):\n",
    "        break\n",
    "\n",
    "# Release the webcam and close windows\n",
    "cap.release()\n",
    "cv2.destroyAllWindows()"
   ]
  },
  {
   "cell_type": "code",
   "execution_count": 151,
   "id": "bd263447-80a7-4bc4-b19a-33124cda9c36",
   "metadata": {},
   "outputs": [
    {
     "name": "stdout",
     "output_type": "stream",
     "text": [
      "\u001b[1m225/225\u001b[0m \u001b[32m━━━━━━━━━━━━━━━━━━━━\u001b[0m\u001b[37m\u001b[0m \u001b[1m1s\u001b[0m 6ms/step\n",
      "Predicted Emotion: 6, True Emotion: 3\n"
     ]
    },
    {
     "data": {
      "image/png": "[encoded data removed]",
      "text/plain": [
       "<Figure size 640x480 with 1 Axes>"
      ]
     },
     "metadata": {},
     "output_type": "display_data"
    }
   ],
   "source": [
    "# Make predictions on the test set\n",
    "predictions = model.predict(X_test)\n",
    "randomp = np.random.randint(0 , 7000)\n",
    "# Get the predicted emotion for the first test image\n",
    "predicted_emotion = np.argmax(predictions[randomp])\n",
    "print(f\"Predicted Emotion: {predicted_emotion}, True Emotion: {y_test[randomp]}\")\n",
    "\n",
    "# Plot the first test image and the prediction\n",
    "plt.imshow(X_test[randomp].reshape(48, 48), cmap='gray')\n",
    "plt.title(f\"Predicted: {predicted_emotion}, True: {y_test[randomp]}\")\n",
    "plt.show()"
   ]
  },
  {
   "cell_type": "code",
   "execution_count": null,
   "id": "2a6e80db-20f2-4d68-bbfc-0995cfc5ce07",
   "metadata": {},
   "outputs": [],
   "source": []
  }
 ],
 "metadata": {
  "kernelspec": {
   "display_name": "Python [conda env:base] *",
   "language": "python",
   "name": "conda-base-py"
  },
  "language_info": {
   "codemirror_mode": {
    "name": "ipython",
    "version": 3
   },
   "file_extension": ".py",
   "mimetype": "text/x-python",
   "name": "python",
   "nbconvert_exporter": "python",
   "pygments_lexer": "ipython3",
   "version": "3.12.7"
  }
 },
 "nbformat": 4,
 "nbformat_minor": 5
}
